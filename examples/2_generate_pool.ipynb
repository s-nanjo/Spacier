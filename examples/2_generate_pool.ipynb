{
 "cells": [
  {
   "cell_type": "markdown",
   "id": "cf47fa55-6a46-4f70-a871-bd1617b8b722",
   "metadata": {},
   "source": [
    "# Generating polymers pool\n",
    "\n",
    "This notebook outlines its main objective: to cultivate a diverse pool of polymers, utilizing computational techniques for simulating and studying polymer structures with an aim to propel the discovery of functional polymers using the rule-based virtual library generator, `SMiPoly`. Additionally, it integrates `RadonPy`, a powerful toolkit for molecular dynamics and property prediction, further enriching the analysis and optimization of the generated polymer structures by providing detailed insights into their physical and chemical behaviors."
   ]
  },
  {
   "cell_type": "markdown",
   "id": "0059d195-1905-415f-a3e7-57c85c761324",
   "metadata": {
    "tags": []
   },
   "source": [
    "## 1. Import Libraries\n",
    "his cell loads essential Python libraries for numerical and data manipulation (`numpy`, `pandas`) and specialized libraries for molecular informatics (`smipoly.smip`). It also introduces `RadonPy` for molecular dynamics and properties prediction, setting the foundation for processing and analyzing polymer structures and their molecular dynamics."
   ]
  },
  {
   "cell_type": "code",
   "execution_count": null,
   "id": "bffd9f2b-afea-4cb6-a7db-0f2017c424ba",
   "metadata": {
    "tags": []
   },
   "outputs": [],
   "source": [
    "import numpy as np\n",
    "import pandas as pd\n",
    "from smipoly.smip import monc, polg\n",
    "from radonpy.core import poly\n",
    "from radonpy.ff.gaff2_mod import GAFF2_mod\n",
    "from radonpy.ff.descriptor import FF_descriptor"
   ]
  },
  {
   "cell_type": "markdown",
   "id": "6c32475c-04a2-4b3d-9777-078d8ccbb977",
   "metadata": {},
   "source": [
    "## 2. Generating pool\n",
    "This function leverages smipoly to efficiently process a dataframe of molecular data, represented in `SMILES` strings, into a unique pool of polymers. Initially, it classifies monomers by analyzing their `SMILES` representations, filtering out unsuitable candidates for polymerization and focusing on those with potential to form polymers. \n",
    "\n",
    "Following classification, it generates bipolymers by simulating chemical reactions between pairs of monomers, adhering to `SMiPoly`'s rules on polymer formation. This step emphasizes the creation of polymers from two distinct monomer units, mirroring actual polymerization methods. The process further entails filtering for specific structural features, deduplication to ensure uniqueness, and data cleansing to prepare a structured dataframe. This dataframe, enriched with unique identifiers and placeholders for molecular properties, stands ready for advanced analyses like Bayesian Optimizations."
   ]
  },
  {
   "cell_type": "code",
   "execution_count": null,
   "id": "d85a4a6e-d78d-4824-bdf4-9ddb8d2e7102",
   "metadata": {},
   "outputs": [],
   "source": [
    "def generate_pool(df):\n",
    "    _ = monc.moncls(df=df, smiColn='smiles', dsp_rsl=False)\n",
    "    _ = polg.biplym(df=_, Pmode='a', dsp_rsl=False)\n",
    "    _ = _[_['polym'].apply(lambda x: x.count('*') == 2)]\n",
    "    df_ = _.drop_duplicates(subset=['polym']).reset_index(drop=True)\n",
    "    _ = poly.full_match_smiles_listself(pd.Series(df_[\"polym\"]), mp=2)\n",
    "    _ = pd.DataFrame(_, columns=[\"idx1\", \"idx2\"])\n",
    "\n",
    "    del_idx = _[\"idx1\"].values.tolist()\n",
    "    not_del_idx = list(df_.drop(del_idx).index)\n",
    "    df_ = df_.iloc[not_del_idx]\n",
    "    df_ = df_.sample(frac=1).reset_index(drop=True)\n",
    "\n",
    "    df_[\"monomer_ID\"] = [\"SMiPoly_VL\" + str(_) for _ in np.arange(len(df_))]\n",
    "    df_[\"smiles\"] = df_[\"polym\"]\n",
    "    df_[\"cycle\"] = \"\"\n",
    "\n",
    "    for prop in props:\n",
    "        df_[prop] = 0\n",
    "\n",
    "    return df_[[\"monomer_ID\", \"mon1\", \"mon2\", \"smiles\"] + props + [\"cycle\"]]"
   ]
  },
  {
   "cell_type": "markdown",
   "id": "34d072bd-d3ab-4ba2-b7ac-eb54c68c3682",
   "metadata": {},
   "source": [
    "## Calculate Force Field (FF) descriptors\n",
    "This function calculates force field descriptors essential for understanding polymers' molecular dynamics, using kernel mean embedding to standardize the complex and variable molecular force field parameters from GAFF2 (General Amber Force Field 2) into uniform, fixed-length vectors. GAFF2 parameters, which include a wide range of molecular interactions from covalent bonds to non-covalent forces like van der Waals and Coulomb forces, are mapped into a high-dimensional feature space using a Gaussian kernel function. This allows for molecular comparisons by simplifying their interactions into a single, comprehensive vector. \n",
    "\n",
    "The discretization of these parameters into intervals represented by Gaussian functions further refines this process, enabling an accurate approximation of their distribution across the dataset. This technique not only facilitates the quantitative analysis of molecular behaviors but also significantly enhances the efficiency of polymer research by providing a streamlined, informative view of each molecule's intrinsic properties. Detailed explanations are given [here](https://github.com/RadonPy/RadonPy/blob/develop/docs/FF-Descriptor_man.pdf)."
   ]
  },
  {
   "cell_type": "code",
   "execution_count": null,
   "id": "b68d665f-723b-4431-8024-cfe33daa9dfe",
   "metadata": {
    "tags": []
   },
   "outputs": [],
   "source": [
    "def calc_ff_descriptors(df, mp=2, n=10, nk=20):\n",
    "    sigma = 1/nk/2\n",
    "    mu = None\n",
    "\n",
    "    ff_desc = FF_descriptor(GAFF2_mod(), polar=False)\n",
    "    desc = ff_desc.ffkm_mp(\n",
    "        df[\"smiles\"], mp=mp, nk=nk, s=sigma, mu=mu, cyclic=n\n",
    "    )\n",
    "    desc_names = ff_desc.ffkm_desc_names(nk=nk)\n",
    "    return pd.DataFrame(desc, columns=desc_names)"
   ]
  },
  {
   "cell_type": "markdown",
   "id": "9197103b-e23d-467e-814c-762210a209b5",
   "metadata": {},
   "source": [
    "## Main execution\n",
    "Acting as the central command unit, this cell directs the overall workflow. It begins with loading the molecular dataset, then employs the previously defined functions to generate a unique polymer pool and calculate their force field descriptors. The final step involves exporting the processed data and descriptors for future use, demonstrating a complete cycle from data loading to result storage in molecular informatics research."
   ]
  },
  {
   "cell_type": "code",
   "execution_count": null,
   "id": "8f0be401-0963-464e-b681-199f925c68fb",
   "metadata": {},
   "outputs": [],
   "source": [
    "DATA_DIR = \"../spacier/data/\"\n",
    "monomer_path = DATA_DIR + \"monomer.csv\"\n",
    "df = pd.read_csv(monomer_path)\n",
    "props = [\"refractive_index\", \"Cp\"]\n",
    "\n",
    "df_pool = generate_pool(df)\n",
    "df_pool_X = calc_ff_descriptors(df_pool)\n",
    "\n",
    "df_pool.to_csv(\"df_pool.csv\", index=False)\n",
    "df_pool_X.to_csv(\"df_pool_X.csv\", index=False)"
   ]
  }
 ],
 "metadata": {
  "kernelspec": {
   "display_name": "Python 3 (ipykernel)",
   "language": "python",
   "name": "python3"
  },
  "language_info": {
   "codemirror_mode": {
    "name": "ipython",
    "version": 3
   },
   "file_extension": ".py",
   "mimetype": "text/x-python",
   "name": "python",
   "nbconvert_exporter": "python",
   "pygments_lexer": "ipython3",
   "version": "3.8.2"
  }
 },
 "nbformat": 4,
 "nbformat_minor": 5
}
