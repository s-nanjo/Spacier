{
 "cells": [
  {
   "cell_type": "markdown",
   "id": "cf47fa55-6a46-4f70-a871-bd1617b8b722",
   "metadata": {},
   "source": [
    "# Generating polymers pool and calculating the polymers descriptors\n",
    "\n",
    "This notebook outlines its main objective: to cultivate a diverse pool of polymers, utilizing computational techniques for simulating and studying polymer structures with an aim to propel the discovery of functional polymers using the rule-based virtual library generator, `SMiPoly`. Additionally, it integrates `RadonPy`, a powerful toolkit for molecular dynamics and property prediction, further enriching the analysis and optimization of the generated polymer structures by providing detailed insights into their physical and chemical behaviors."
   ]
  },
  {
   "cell_type": "markdown",
   "id": "6c32475c-04a2-4b3d-9777-078d8ccbb977",
   "metadata": {},
   "source": [
    "### Generating pool\n",
    "The `generate_pool` function utilizes the `SMiPoly` library to process molecular data, specifically `SMILES` strings, transforming them into a unique pool of polymers. The process begins by classifying monomers through their `SMILES` representations. It identifies candidates suitable for polymerization and filters out those that are not, focusing only on those with the potential to form polymers.\n",
    "\n",
    "The function then simulates chemical reactions between pairs of monomers to generate bipolymers, following the specific rules set by `SMiPoly for polymer formation. This crucial step ensures the creation of polymers from two distinct monomer units, which closely mirrors real-world polymerization techniques. The resulting polymers are further processed to filter specific structural features, perform deduplication to ensure each polymer is unique, and cleanse the data to produce a structured dataframe. This dataframe is enriched with unique identifiers for each polymer and placeholders for additional molecular properties, which prepares it for more complex analyses, such as Bayesian Optimizations."
   ]
  },
  {
   "cell_type": "code",
   "execution_count": null,
   "id": "d85a4a6e-d78d-4824-bdf4-9ddb8d2e7102",
   "metadata": {},
   "outputs": [],
   "source": [
    "import pandas as pd\n",
    "from spacier.wrappers.smipoly import generate_pool\n",
    "\n",
    "# Load molecular data from a CSV file\n",
    "DATA_DIR = \"../spacier/data/\"\n",
    "monomer_path = DATA_DIR + \"monomer.csv\"\n",
    "df = pd.read_csv(monomer_path)\n",
    "\n",
    "# Define additional properties to calculate for each polymer\n",
    "props = [\"refractive_index\", \"abbe_number\"]\n",
    "\n",
    "# Generate a pool of unique polymers\n",
    "df_pool = generate_pool(df, props)\n",
    "\n",
    "# Save the pool to a CSV file\n",
    "df_pool.to_csv(\"df_pool.csv\", index=False)"
   ]
  },
  {
   "cell_type": "markdown",
   "id": "34d072bd-d3ab-4ba2-b7ac-eb54c68c3682",
   "metadata": {},
   "source": [
    "### Calculate Force Field (FF) descriptors\n",
    "`calc_ff_descriptors` function calculates force field descriptors essential for understanding polymers' molecular dynamics, using kernel mean embedding to standardize the complex and variable molecular force field parameters from GAFF2 (General Amber Force Field 2) into uniform, fixed-length vectors. GAFF2 parameters, which include a wide range of molecular interactions from covalent bonds to non-covalent forces like van der Waals and Coulomb forces, are mapped into a high-dimensional feature space using a Gaussian kernel function. This allows for molecular comparisons by simplifying their interactions into a single, comprehensive vector. \n",
    "\n",
    "The discretization of these parameters into intervals represented by Gaussian functions further refines this process, enabling an accurate approximation of their distribution across the dataset. This technique not only facilitates the quantitative analysis of molecular behaviors but also significantly enhances the efficiency of polymer research by providing a streamlined, informative view of each molecule's intrinsic properties. Detailed explanations are given [here](https://github.com/RadonPy/RadonPy/blob/develop/docs/FF-Descriptor_man.pdf)."
   ]
  },
  {
   "cell_type": "code",
   "execution_count": null,
   "id": "b68d665f-723b-4431-8024-cfe33daa9dfe",
   "metadata": {
    "tags": []
   },
   "outputs": [],
   "source": [
    "from spacier.wrappers.radonpy import calc_ff_descriptors\n",
    "\n",
    "# Calculate the force field descriptors for the pool\n",
    "df_pool_X = calc_ff_descriptors(df_pool)\n",
    "\n",
    "# Save the pool with the force field descriptors\n",
    "df_pool_X.to_csv(\"df_pool_X.csv\", index=False)"
   ]
  }
 ],
 "metadata": {
  "kernelspec": {
   "display_name": "Python 3 (ipykernel)",
   "language": "python",
   "name": "python3"
  },
  "language_info": {
   "codemirror_mode": {
    "name": "ipython",
    "version": 3
   },
   "file_extension": ".py",
   "mimetype": "text/x-python",
   "name": "python",
   "nbconvert_exporter": "python",
   "pygments_lexer": "ipython3",
   "version": "3.8.2"
  }
 },
 "nbformat": 4,
 "nbformat_minor": 5
}
