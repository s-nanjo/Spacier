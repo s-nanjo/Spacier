{
 "cells": [
  {
   "cell_type": "markdown",
   "id": "e8ffbe96-ee41-4ae8-9896-0c70129e380f",
   "metadata": {},
   "source": [
    "##  Importing Libraries and Checking spacier Version\n",
    "In this initial setup, we import necessary libraries including `pandas` for data manipulation, and `sys` to modify the Python path to include our custom module. We then import `model` and `spacier` from our `spacier` package. This cell concludes by printing the version of the `spacier` package, ensuring we are using the intended version for our analysis. `spacier` is a custom library tailored for this project, enabling advanced data analysis and modeling techniques."
   ]
  },
  {
   "cell_type": "code",
   "execution_count": 1,
   "id": "f2d0b3d5",
   "metadata": {
    "tags": []
   },
   "outputs": [
    {
     "name": "stdout",
     "output_type": "stream",
     "text": [
      "spacier:  0.0.5\n"
     ]
    }
   ],
   "source": [
    "import pandas as pd\n",
    "import numpy as np\n",
    "import sys\n",
    "sys.path.append('../')\n",
    "from spacier.ml import model, spacier\n",
    "\n",
    "print(\"spacier: \", spacier.__version__)"
   ]
  },
  {
   "cell_type": "markdown",
   "id": "9c0e1474",
   "metadata": {},
   "source": [
    "## Data preparation (Binh and Korn function)"
   ]
  },
  {
   "cell_type": "code",
   "execution_count": 2,
   "id": "71075e37-a19a-4731-a9d5-63bbc51748d2",
   "metadata": {
    "tags": []
   },
   "outputs": [],
   "source": [
    "num_samples = 10000\n",
    "x_min, x_max = -5, 15\n",
    "\n",
    "\n",
    "np.random.seed(0)\n",
    "x_samples = np.random.uniform(x_min, x_max, (num_samples, 2))\n",
    "\n",
    "X = pd.DataFrame(x_samples, columns=[\"x1\", \"x2\"])\n",
    "\n",
    "df_X = X.iloc[:10]\n",
    "df_pool_X = X.iloc[10:].reset_index(drop=True)\n",
    "\n",
    "##\n",
    "df = pd.DataFrame({\n",
    "    \"y1\": -(4 * df_X[\"x1\"]**2 + 4 * df_X[\"x2\"]**2),\n",
    "    \"y2\": -((df_X[\"x1\"] - 5)**2 + (df_X[\"x2\"] - 5)**2)\n",
    "})"
   ]
  },
  {
   "cell_type": "markdown",
   "id": "c69febf7",
   "metadata": {},
   "source": [
    "## Random Sampling\n",
    "\n",
    "This section demonstrates random sampling, a method where we randomly select a subset of data from our pool dataset. Random sampling is a basic but effective strategy for selecting data points without any inherent bias, often used as a baseline in various data analysis tasks."
   ]
  },
  {
   "cell_type": "code",
   "execution_count": 3,
   "id": "0ed56d83",
   "metadata": {
    "tags": []
   },
   "outputs": [
    {
     "name": "stdout",
     "output_type": "stream",
     "text": [
      "Number of candidates :  9990\n",
      "[8432, 6361, 996, 6319, 1660, 1081, 3807, 2785, 1465, 8228]\n"
     ]
    }
   ],
   "source": [
    "new_index = spacier.Random(df_X, df, df_pool_X).sample(10)\n",
    "print(new_index)"
   ]
  },
  {
   "cell_type": "markdown",
   "id": "2f2b8604",
   "metadata": {},
   "source": [
    "## Uncertainty Sampling\n",
    "\n",
    "In this part, we utilize uncertainty sampling, a technique often employed in active learning. It involves selecting samples for which the model has the lowest confidence in its predictions. This method is beneficial for improving model performance efficiently by focusing on learning from ambiguous or challenging examples."
   ]
  },
  {
   "cell_type": "code",
   "execution_count": 4,
   "id": "728e00c3",
   "metadata": {},
   "outputs": [
    {
     "name": "stdout",
     "output_type": "stream",
     "text": [
      "Number of training data :  10\n",
      "Number of candidates :  9990\n",
      "[6873, 1017, 8530, 9456, 8781, 9741, 39, 3954, 2999, 4314]\n"
     ]
    }
   ],
   "source": [
    "new_index = spacier.BO(df_X, df, df_pool_X, \"sklearn_GP\", [\"y1\"]).uncertainty(10)\n",
    "print(new_index)"
   ]
  },
  {
   "cell_type": "markdown",
   "id": "63fb031f",
   "metadata": {},
   "source": [
    "## Probability of Improvement (PI)\n",
    "\n",
    "Probability of Improvement is a strategy used in Bayesian optimization to select the next point to evaluate by maximizing the probability of achieving improvement over the current best observation. It's particularly useful in optimizing performance criteria under uncertainty."
   ]
  },
  {
   "cell_type": "code",
   "execution_count": 5,
   "id": "9062e12e",
   "metadata": {
    "tags": []
   },
   "outputs": [
    {
     "name": "stdout",
     "output_type": "stream",
     "text": [
      "Number of training data :  10\n",
      "Number of candidates :  9990\n",
      "[5777, 8172, 2485, 7238, 1271, 5306, 3508, 1727, 9205, 2292]\n"
     ]
    }
   ],
   "source": [
    "new_index = spacier.BO(df_X, df, df_pool_X,  \"sklearn_GP\", [\"y1\"]).PI([[-20, 0]], 10)\n",
    "print(new_index)"
   ]
  },
  {
   "cell_type": "markdown",
   "id": "b779918c",
   "metadata": {},
   "source": [
    "This cell is a continuation of the previous PI method, now incorporating an additional parameter, `y1`, alongside `y2`. This demonstrates how PI can be adapted to multi-dimensional scenarios, enhancing the model's ability to navigate more complex optimization landscapes."
   ]
  },
  {
   "cell_type": "code",
   "execution_count": 6,
   "id": "feff83da",
   "metadata": {},
   "outputs": [
    {
     "name": "stdout",
     "output_type": "stream",
     "text": [
      "Number of training data :  10\n",
      "Number of candidates :  9990\n"
     ]
    },
    {
     "data": {
      "text/plain": [
       "[8571, 2292, 1331, 3630, 2374, 946, 1249, 9036, 7857, 5452]"
      ]
     },
     "execution_count": 6,
     "metadata": {},
     "output_type": "execute_result"
    }
   ],
   "source": [
    "new_index = spacier.BO(df_X, df, df_pool_X, \"sklearn_GP\", [\"y1\", \"y2\"]).PI([[-20, 10], [-40, -20]], 10)\n",
    "new_index"
   ]
  },
  {
   "cell_type": "markdown",
   "id": "a9635502",
   "metadata": {},
   "source": [
    "## Expected Improvement (EI)\n",
    "\n",
    "Expected Improvement is another technique from the realm of Bayesian optimization. It chooses the next query point by considering both the expected improvement and the uncertainty of the outcome. EI is particularly effective in scenarios where we aim to balance exploration (of uncharted territories) and exploitation (of known valuable areas)."
   ]
  },
  {
   "cell_type": "code",
   "execution_count": 7,
   "id": "33664716",
   "metadata": {},
   "outputs": [
    {
     "name": "stdout",
     "output_type": "stream",
     "text": [
      "Number of training data :  10\n",
      "Number of candidates :  9990\n",
      "[5950, 508, 2266, 5068, 5160, 6834, 5738, 9397, 659, 88]\n"
     ]
    }
   ],
   "source": [
    "new_index = spacier.BO(df_X, df, df_pool_X, \"sklearn_GP\", [\"y1\"]).EI(10)\n",
    "print(new_index)"
   ]
  },
  {
   "cell_type": "markdown",
   "id": "53378fff",
   "metadata": {},
   "source": [
    "## Upper Confidence Bound (UCB)\n",
    "\n",
    "The Upper Confidence Bound algorithm is a balance between exploring uncertain areas and exploiting known areas of the parameter space. It's used in decision-making processes where there's a need to balance the exploration of untested options with the exploitation of current knowledge.\n"
   ]
  },
  {
   "cell_type": "code",
   "execution_count": 8,
   "id": "44ca4219",
   "metadata": {},
   "outputs": [
    {
     "name": "stdout",
     "output_type": "stream",
     "text": [
      "Number of training data :  10\n",
      "Number of candidates :  9990\n",
      "[5738, 508, 2266, 6834, 5160, 9946, 5068, 6342, 5950, 659]\n"
     ]
    }
   ],
   "source": [
    "new_index = spacier.BO(df_X, df, df_pool_X, \"sklearn_GP\", [\"y1\"]).UCB(10)\n",
    "print(new_index)"
   ]
  },
  {
   "cell_type": "markdown",
   "id": "d2693ac0",
   "metadata": {},
   "source": [
    "## Expected Hypervolume Improvement (EHVI)\n",
    "\n",
    "Expected Hypervolume Improvement is a multi-objective optimization strategy used in Bayesian optimization. It aims to select points that are expected to most improve the 'hypervolume' metric, a measure of space covered by the Pareto front in multi-objective optimization. This method is valuable when dealing with trade-offs between two or more conflicting objectives."
   ]
  },
  {
   "cell_type": "code",
   "execution_count": 9,
   "id": "296cbdd1",
   "metadata": {},
   "outputs": [
    {
     "name": "stdout",
     "output_type": "stream",
     "text": [
      "Number of training data :  10\n",
      "Number of candidates :  9990\n",
      "[1618, 1669, 1821, 9453, 5018, 1661, 665, 7744, 2374, 6616]\n",
      "CPU times: total: 22.8 s\n",
      "Wall time: 22.9 s\n"
     ]
    }
   ],
   "source": [
    "%%time\n",
    "new_index = spacier.BO(df_X, df, df_pool_X, \"sklearn_GP\", [\"y1\", \"y2\"], standardization=True).EHVI(10)\n",
    "print(new_index)"
   ]
  },
  {
   "cell_type": "code",
   "execution_count": null,
   "id": "f52d7fdc",
   "metadata": {},
   "outputs": [],
   "source": []
  }
 ],
 "metadata": {
  "kernelspec": {
   "display_name": "Python 3 (ipykernel)",
   "language": "python",
   "name": "python3"
  },
  "language_info": {
   "codemirror_mode": {
    "name": "ipython",
    "version": 3
   },
   "file_extension": ".py",
   "mimetype": "text/x-python",
   "name": "python",
   "nbconvert_exporter": "python",
   "pygments_lexer": "ipython3",
   "version": "3.10.9"
  }
 },
 "nbformat": 4,
 "nbformat_minor": 5
}
