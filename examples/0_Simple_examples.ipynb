{
 "cells": [
  {
   "cell_type": "markdown",
   "id": "e8ffbe96-ee41-4ae8-9896-0c70129e380f",
   "metadata": {},
   "source": [
    "##  Importing Libraries and Checking spacier Version\n",
    "In this initial setup, we import necessary libraries including `pandas` for data manipulation, and `sys` to modify the Python path to include our custom module. We then import `model` and `spacier` from our `spacier` package. This cell concludes by printing the version of the `spacier` package, ensuring we are using the intended version for our analysis. `spacier` is a custom library tailored for this project, enabling advanced data analysis and modeling techniques."
   ]
  },
  {
   "cell_type": "code",
   "execution_count": 1,
   "id": "f2d0b3d5",
   "metadata": {
    "tags": []
   },
   "outputs": [
    {
     "name": "stdout",
     "output_type": "stream",
     "text": [
      "spacier:  0.0.4\n"
     ]
    }
   ],
   "source": [
    "import pandas as pd\n",
    "import sys\n",
    "sys.path.append('../')\n",
    "from spacier.ml import model, spacier\n",
    "\n",
    "print(\"spacier: \", spacier.__version__)"
   ]
  },
  {
   "cell_type": "markdown",
   "id": "9517407f-5f57-4dcf-a8b8-13b21e614658",
   "metadata": {},
   "source": [
    "## Loading Data\n",
    "Here, we load our datasets using `pandas`. The datasets include `X.csv` and `X_pool.csv` for features, alongside `y.csv` and `y_pool.csv` for the labels or targets. These datasets are presumably split into training and \"pool\" sets, the latter of which might be used for techniques such as active learning or further validation."
   ]
  },
  {
   "cell_type": "code",
   "execution_count": 2,
   "id": "71075e37-a19a-4731-a9d5-63bbc51748d2",
   "metadata": {
    "tags": []
   },
   "outputs": [],
   "source": [
    "data_path = \"../spacier/data\"\n",
    "df_X = pd.read_csv(f\"{data_path}/X.csv\")\n",
    "df_pool_X = pd.read_csv(f\"{data_path}/X_pool.csv\")\n",
    "\n",
    "df = pd.read_csv(f\"{data_path}/y.csv\")"
   ]
  },
  {
   "cell_type": "markdown",
   "id": "c69febf7",
   "metadata": {},
   "source": [
    "## Random Sampling\n",
    "\n",
    "This section demonstrates random sampling, a method where we randomly select a subset of data from our pool dataset. Random sampling is a basic but effective strategy for selecting data points without any inherent bias, often used as a baseline in various data analysis tasks."
   ]
  },
  {
   "cell_type": "code",
   "execution_count": 3,
   "id": "0ed56d83",
   "metadata": {
    "tags": []
   },
   "outputs": [
    {
     "name": "stdout",
     "output_type": "stream",
     "text": [
      "Number of candidates :  1067\n",
      "[432, 540, 68, 366, 192, 426, 886, 314, 429, 385]\n"
     ]
    }
   ],
   "source": [
    "new_index = spacier.Random(df_X, df_pool_X , df).sample(10)\n",
    "print(new_index)"
   ]
  },
  {
   "cell_type": "markdown",
   "id": "2f2b8604",
   "metadata": {},
   "source": [
    "## Uncertainty Sampling\n",
    "\n",
    "In this part, we utilize uncertainty sampling, a technique often employed in active learning. It involves selecting samples for which the model has the lowest confidence in its predictions. This method is beneficial for improving model performance efficiently by focusing on learning from ambiguous or challenging examples."
   ]
  },
  {
   "cell_type": "code",
   "execution_count": 4,
   "id": "573b9491",
   "metadata": {
    "tags": []
   },
   "outputs": [
    {
     "name": "stdout",
     "output_type": "stream",
     "text": [
      "Number of training data :  10\n",
      "Number of candidates :  1067\n",
      "[920, 730, 916, 917, 919, 914, 927, 722, 723, 731]\n"
     ]
    }
   ],
   "source": [
    "new_index = spacier.BO(df_X, df_pool_X , df,\"sklearn_GP\", [\"Cp\"]).uncertainty(10)\n",
    "print(new_index)"
   ]
  },
  {
   "cell_type": "markdown",
   "id": "63fb031f",
   "metadata": {},
   "source": [
    "## Probability of Improvement (PI)\n",
    "\n",
    "Probability of Improvement is a strategy used in Bayesian optimization to select the next point to evaluate by maximizing the probability of achieving improvement over the current best observation. It's particularly useful in optimizing performance criteria under uncertainty."
   ]
  },
  {
   "cell_type": "code",
   "execution_count": 5,
   "id": "9062e12e",
   "metadata": {
    "tags": []
   },
   "outputs": [
    {
     "name": "stdout",
     "output_type": "stream",
     "text": [
      "Number of training data :  10\n",
      "Number of candidates :  1067\n",
      "[709, 708, 714, 713, 712, 711, 710, 716, 705, 704]\n"
     ]
    }
   ],
   "source": [
    "new_index = spacier.BO(df_X, df_pool_X , df, \"sklearn_GP\", [\"Cp\"]).PI([[3000, 4000]], 10)\n",
    "print(new_index)"
   ]
  },
  {
   "cell_type": "markdown",
   "id": "76cc475f-efce-48e2-8d40-92352083f193",
   "metadata": {},
   "source": [
    "This cell is a continuation of the previous PI method, now incorporating an additional parameter, `refractive_index`, alongside `Cp`. This demonstrates how PI can be adapted to multi-dimensional scenarios, enhancing the model's ability to navigate more complex optimization landscapes."
   ]
  },
  {
   "cell_type": "code",
   "execution_count": 6,
   "id": "3ed8de5e",
   "metadata": {},
   "outputs": [
    {
     "name": "stdout",
     "output_type": "stream",
     "text": [
      "Number of training data :  10\n",
      "Number of candidates :  1067\n",
      "[709, 708, 714, 713, 712, 711, 710, 716, 705, 704]\n"
     ]
    }
   ],
   "source": [
    "new_index = spacier.BO(df_X, df_pool_X , df, \"sklearn_GP\", [\"Cp\", \"refractive_index\"]).PI([[3000, 4000], [1.6, 1.7]], 10)\n",
    "print(new_index)"
   ]
  },
  {
   "cell_type": "markdown",
   "id": "a9635502",
   "metadata": {},
   "source": [
    "## Expected Improvement (EI)\n",
    "\n",
    "Expected Improvement is another technique from the realm of Bayesian optimization. It chooses the next query point by considering both the expected improvement and the uncertainty of the outcome. EI is particularly effective in scenarios where we aim to balance exploration (of uncharted territories) and exploitation (of known valuable areas)."
   ]
  },
  {
   "cell_type": "code",
   "execution_count": 7,
   "id": "67063b94",
   "metadata": {},
   "outputs": [
    {
     "name": "stdout",
     "output_type": "stream",
     "text": [
      "Number of training data :  10\n",
      "Number of candidates :  1067\n",
      "[410, 330, 413, 335, 411, 754, 268, 409, 134, 412]\n"
     ]
    }
   ],
   "source": [
    "new_index = spacier.BO(df_X, df_pool_X , df,\"sklearn_GP\", [\"Cp\"]).EI(10)\n",
    "print(new_index)"
   ]
  },
  {
   "cell_type": "markdown",
   "id": "53378fff",
   "metadata": {},
   "source": [
    "## Upper Confidence Bound (UCB)\n",
    "\n",
    "The Upper Confidence Bound algorithm is a balance between exploring uncertain areas and exploiting known areas of the parameter space. It's used in decision-making processes where there's a need to balance the exploration of untested options with the exploitation of current knowledge.\n"
   ]
  },
  {
   "cell_type": "code",
   "execution_count": 8,
   "id": "44ca4219",
   "metadata": {},
   "outputs": [
    {
     "name": "stdout",
     "output_type": "stream",
     "text": [
      "Number of training data :  10\n",
      "Number of candidates :  1067\n",
      "[335, 411, 413, 410, 330, 754, 268, 331, 409, 134]\n"
     ]
    }
   ],
   "source": [
    "new_index = spacier.BO(df_X, df_pool_X , df, \"sklearn_GP\", [\"Cp\"]).UCB(10)\n",
    "print(new_index)"
   ]
  },
  {
   "cell_type": "markdown",
   "id": "d2693ac0",
   "metadata": {},
   "source": [
    "## Expected Hypervolume Improvement (EHVI)\n",
    "\n",
    "Expected Hypervolume Improvement is a multi-objective optimization strategy used in Bayesian optimization. It aims to select points that are expected to most improve the 'hypervolume' metric, a measure of space covered by the Pareto front in multi-objective optimization. This method is valuable when dealing with trade-offs between two or more conflicting objectives."
   ]
  },
  {
   "cell_type": "code",
   "execution_count": 9,
   "id": "296cbdd1",
   "metadata": {},
   "outputs": [
    {
     "name": "stdout",
     "output_type": "stream",
     "text": [
      "Number of training data :  10\n",
      "Number of candidates :  1067\n",
      "[330, 486, 413, 412, 411, 623, 410, 353, 335, 390]\n",
      "CPU times: total: 2.03 s\n",
      "Wall time: 2.33 s\n"
     ]
    }
   ],
   "source": [
    "%%time\n",
    "new_index = spacier.BO(df_X, df_pool_X , df,\"sklearn_GP\", [\"Cp\", \"refractive_index\"], standardization=True).EHVI(10)\n",
    "print(new_index)"
   ]
  }
 ],
 "metadata": {
  "kernelspec": {
   "display_name": "Python 3 (ipykernel)",
   "language": "python",
   "name": "python3"
  },
  "language_info": {
   "codemirror_mode": {
    "name": "ipython",
    "version": 3
   },
   "file_extension": ".py",
   "mimetype": "text/x-python",
   "name": "python",
   "nbconvert_exporter": "python",
   "pygments_lexer": "ipython3",
   "version": "3.12.2"
  }
 },
 "nbformat": 4,
 "nbformat_minor": 5
}
