{
 "cells": [
  {
   "cell_type": "markdown",
   "id": "43f72996-2112-420d-9e22-ba7518c115e2",
   "metadata": {},
   "source": [
    "# Introduction\n",
    "\n",
    "This Jupyter Notebook demonstrates the application of various sampling and optimization techniques in the search for polymers with desired properties. We utilize the `spacier` library for conducting Bayesian Optimization (BO) and other sampling methods to efficiently explore the material space.\n",
    "\n",
    "## Setup and Version Check\n",
    "\n",
    "First, we import necessary libraries and check the version of the `spacier` package to ensure compatibility and reproducibility of results."
   ]
  },
  {
   "cell_type": "code",
   "execution_count": 1,
   "id": "f2d0b3d5",
   "metadata": {
    "tags": []
   },
   "outputs": [
    {
     "name": "stdout",
     "output_type": "stream",
     "text": [
      "spacier:  0.0.5\n"
     ]
    }
   ],
   "source": [
    "import sys\n",
    "sys.path.append('../')\n",
    "from spacier.ml import spacier\n",
    "\n",
    "import pandas as pd\n",
    "import numpy as np\n",
    "import matplotlib.pyplot as plt\n",
    "\n",
    "print(\"spacier: \", spacier.__version__)"
   ]
  },
  {
   "cell_type": "markdown",
   "id": "54fdc448-8e30-4958-a7d6-c0847b0d7f8e",
   "metadata": {},
   "source": [
    "## Loading Datasets\n",
    "\n",
    "The following function `load_datasets` is defined to load our datasets from disk. This includes the training data (`df_X`), the pool of candidates (`df_pool_X`), the known outcomes (`df`), and the oracle or ground truth data (`df_oracle`). This setup is typical in active learning and Bayesian optimization workflows where an initial dataset is iteratively augmented with carefully selected new data."
   ]
  },
  {
   "cell_type": "code",
   "execution_count": 2,
   "id": "44d3ddb9-5bad-4412-bc50-e4c0c538fcdf",
   "metadata": {
    "tags": []
   },
   "outputs": [],
   "source": [
    "def load_datasets():\n",
    "    data_path = \"../spacier/data\"\n",
    "    df_X = pd.read_csv(f\"{data_path}/X.csv\")\n",
    "    df_pool_X = pd.read_csv(f\"{data_path}/X_pool.csv\")\n",
    "\n",
    "    df = pd.read_csv(f\"{data_path}/y.csv\")\n",
    "    df_oracle = pd.read_csv(f\"{data_path}//y_oracle.csv\")\n",
    "    \n",
    "    return df_X, df_pool_X, df, df_oracle"
   ]
  },
  {
   "cell_type": "markdown",
   "id": "27325497-5afe-422d-9ab6-696e0d8a9dfb",
   "metadata": {},
   "source": [
    "## Updating Datasets Function\n",
    "\n",
    "The `update_datasets` function is designed to streamline the process of integrating new samples into our existing datasets during each iteration of our experiments. This function takes the current datasets (`df_X`, `df_pool_X`, `df`), the indices of the new samples (`new_indices`), and the list of properties that need to be updated (`properties`) as inputs. It performs the following tasks:\n",
    "\n",
    "- Selects new samples based on `new_indices` and updates the training dataset (`df_X`) and its corresponding properties (`df`).\n",
    "- Removes these samples from the pool datasets (`df_pool_X`) to avoid re-selection.\n",
    "- Updates the properties of the selected samples in the training dataset using the oracle (`df_oracle`) to ensure accurate and updated property values.\n",
    "\n",
    "This function returns the updated datasets, ready for the next iteration or analysis."
   ]
  },
  {
   "cell_type": "code",
   "execution_count": 3,
   "id": "ad805e6a-fed3-4b40-b35f-effcf4070c9e",
   "metadata": {
    "tags": []
   },
   "outputs": [],
   "source": [
    "def update_datasets(df_X, df_pool_X, df, df_oracle, new_indices):\n",
    "    # Extract the selected rows based on new_indices\n",
    "    selected_df_X = df_pool_X.iloc[new_indices]\n",
    "    \n",
    "    # Update df_X and df_pool_X\n",
    "    df_X = pd.concat([df_X, selected_df_X]).reset_index(drop=True)\n",
    "    df_pool_X = df_pool_X.drop(new_indices).reset_index(drop=True)\n",
    "    \n",
    "    # Create a DataFrame for new rows to be added to df\n",
    "    df_new = pd.DataFrame(index=range(len(new_indices)), columns=df.columns)\n",
    "    \n",
    "    # Fill the new rows with data from df_oracle\n",
    "    for idx, new_idx in enumerate(new_indices):\n",
    "        oracle_row = df_oracle.iloc[new_idx]\n",
    "        for prop in df.columns:\n",
    "            df_new.at[idx, prop] = oracle_row[prop]\n",
    "\n",
    "    # Concatenate the updated rows with df\n",
    "    df = pd.concat([df, df_new]).reset_index(drop=True)\n",
    "\n",
    "    # Update df_oracle by removing the selected rows\n",
    "    df_oracle = df_oracle.drop(new_indices).reset_index(drop=True)\n",
    "\n",
    "    return df_X, df_pool_X, df, df_oracle"
   ]
  },
  {
   "cell_type": "markdown",
   "id": "13d30819",
   "metadata": {},
   "source": [
    "# Experiment 1: Searching for High Thermal Conductivity Polymers\n",
    "\n",
    "In this experiment, we aim to discover polymers with high thermal conductivity. We employ the Expected Improvement (EI) method for sampling from our candidate pool, comparing its performance to random sampling. EI is a popular acquisition function in Bayesian optimization that balances exploration and exploitation by prioritizing points with a higher expected improvement over the current best observation."
   ]
  },
  {
   "cell_type": "code",
   "execution_count": 4,
   "id": "5779977e",
   "metadata": {
    "tags": []
   },
   "outputs": [
    {
     "name": "stdout",
     "output_type": "stream",
     "text": [
      "Number of training data :  10\n",
      "Number of candidates :  1067\n",
      "Number of training data :  20\n",
      "Number of candidates :  1057\n",
      "Number of training data :  30\n",
      "Number of candidates :  1047\n",
      "Number of training data :  40\n",
      "Number of candidates :  1037\n",
      "Number of training data :  50\n",
      "Number of candidates :  1027\n",
      "Number of training data :  59\n",
      "Number of candidates :  1017\n",
      "Number of training data :  69\n",
      "Number of candidates :  1007\n",
      "Number of training data :  79\n",
      "Number of candidates :  997\n",
      "Number of training data :  89\n",
      "Number of candidates :  987\n",
      "Number of training data :  99\n",
      "Number of candidates :  977\n",
      "Number of training data :  109\n",
      "Number of candidates :  967\n",
      "Number of training data :  119\n",
      "Number of candidates :  957\n",
      "Number of training data :  129\n",
      "Number of candidates :  947\n",
      "Number of training data :  139\n",
      "Number of candidates :  937\n",
      "Number of training data :  149\n",
      "Number of candidates :  927\n",
      "Number of training data :  159\n",
      "Number of candidates :  917\n",
      "Number of training data :  169\n",
      "Number of candidates :  907\n",
      "Number of training data :  179\n",
      "Number of candidates :  897\n",
      "Number of training data :  189\n",
      "Number of candidates :  887\n",
      "Number of training data :  199\n",
      "Number of candidates :  877\n"
     ]
    }
   ],
   "source": [
    "# Experiment 1: EI\n",
    "df_X, df_pool_X, df, df_oracle = load_datasets()\n",
    "highest_value_ei = [df[\"thermal_conductivity\"].max()]\n",
    "\n",
    "for num in range(20):\n",
    "    new_index = spacier.BO(df_X, df, df_pool_X, \"sklearn_GP\", [\"thermal_conductivity\"]).EI(10)\n",
    "    df_X, df_pool_X, df, df_oracle = update_datasets(df_X, df_pool_X, df, df_oracle, new_index)\n",
    "    highest_value_ei.append(df[\"thermal_conductivity\"].max())"
   ]
  },
  {
   "cell_type": "code",
   "execution_count": null,
   "id": "c9f4742b-f884-4262-8b96-8c83e45c3223",
   "metadata": {
    "tags": []
   },
   "outputs": [],
   "source": [
    "# Experiment 1: Random\n",
    "df_X, df_pool_X, df, df_oracle = load_datasets()\n",
    "highest_value_random = [df[\"thermal_conductivity\"].max()]\n",
    "\n",
    "for num in range(20):\n",
    "    new_index = spacier.Random(df_X, df_pool_X, df).sample(10)\n",
    "    df_X, df_pool_X, df, df_oracle = update_datasets(df_X, df_pool_X, df, df_oracle, new_index)\n",
    "    highest_value_random.append(df[\"thermal_conductivity\"].max())"
   ]
  },
  {
   "cell_type": "markdown",
   "id": "cd3f8aa1",
   "metadata": {},
   "source": [
    "### Experiment 1 Plot Explanation\n",
    "\n",
    "The plot below showcases the progress of finding polymers with high thermal conductivity over multiple cycles of sampling. It compares the effectiveness of the Expected Improvement (EI) method against a random sampling strategy. The y-axis represents the highest thermal conductivity found up to each cycle, and the x-axis tracks the number of cycles. This visualization helps to illustrate how quickly and effectively each method identifies polymers with superior thermal conductivity properties."
   ]
  },
  {
   "cell_type": "code",
   "execution_count": 6,
   "id": "5b80e74f",
   "metadata": {
    "tags": []
   },
   "outputs": [
    {
     "data": {
      "text/plain": [
       "<matplotlib.legend.Legend at 0x7f51e96ed190>"
      ]
     },
     "execution_count": 6,
     "metadata": {},
     "output_type": "execute_result"
    },
    {
     "data": {
      "image/png": "[encoded data removed]",
      "text/plain": [
       "<Figure size 300x300 with 1 Axes>"
      ]
     },
     "metadata": {},
     "output_type": "display_data"
    }
   ],
   "source": [
    "plt.figure(figsize=(3, 3))\n",
    "plt.xlim(0, 20)\n",
    "plt.ylim(0, 0.7)\n",
    "plt.xlabel(\"cycle\")\n",
    "plt.ylabel(r\"(Max) thermal conductivity [W/(m$\\cdot$K)]\")\n",
    "plt.plot(np.arange(0, 21), highest_value_random, label=\"random\", color=\"grey\", lw=2)\n",
    "plt.plot(np.arange(0, 21), highest_value_ei, label=\"EI\", color=\"k\", lw=2)\n",
    "\n",
    "plt.legend()"
   ]
  },
  {
   "cell_type": "markdown",
   "id": "d2693ac0",
   "metadata": {},
   "source": [
    "# Experiment 2: Searching for Polymers with Specific Properties\n",
    "\n",
    "This experiment focuses on finding polymers that fit within a specified range of properties, such as specific heat capacity (`Cp`), refractive index, and density. The Probability of Improvement (PI) method is used, which selects new samples based on the probability of those samples improving over the best current sample within the desired property ranges."
   ]
  },
  {
   "cell_type": "code",
   "execution_count": 7,
   "id": "94956d4a",
   "metadata": {
    "scrolled": true,
    "tags": []
   },
   "outputs": [
    {
     "name": "stdout",
     "output_type": "stream",
     "text": [
      "Number of training data :  10\n",
      "Number of candidates :  1067\n",
      "Number of training data :  20\n",
      "Number of candidates :  1057\n",
      "Number of training data :  30\n",
      "Number of candidates :  1047\n",
      "Number of training data :  40\n",
      "Number of candidates :  1037\n",
      "Number of training data :  50\n",
      "Number of candidates :  1027\n",
      "Number of training data :  60\n",
      "Number of candidates :  1017\n",
      "Number of training data :  70\n",
      "Number of candidates :  1007\n",
      "Number of training data :  80\n",
      "Number of candidates :  997\n",
      "Number of training data :  90\n",
      "Number of candidates :  987\n",
      "Number of training data :  100\n",
      "Number of candidates :  977\n",
      "Number of training data :  110\n",
      "Number of candidates :  967\n",
      "Number of training data :  120\n",
      "Number of candidates :  957\n",
      "Number of training data :  130\n",
      "Number of candidates :  947\n",
      "Number of training data :  140\n",
      "Number of candidates :  937\n",
      "Number of training data :  150\n",
      "Number of candidates :  927\n",
      "Number of training data :  160\n",
      "Number of candidates :  917\n",
      "Number of training data :  170\n",
      "Number of candidates :  907\n",
      "Number of training data :  180\n",
      "Number of candidates :  897\n",
      "Number of training data :  189\n",
      "Number of candidates :  887\n",
      "Number of training data :  199\n",
      "Number of candidates :  877\n"
     ]
    }
   ],
   "source": [
    "# Experiment 2: PI\n",
    "df_X, df_pool_X, df, df_oracle = load_datasets()\n",
    "hit_pi = [0]\n",
    "\n",
    "properties_to_update = [\"Cp\", \"refractive_index\", \"density\"]\n",
    "\n",
    "for num in range(20):\n",
    "    new_index = spacier.BO(df_X, df, df_pool_X, \"sklearn_GP\", properties_to_update).PI([[3000, 4000],[1.6, 1.7], [1, 1.1]], 10)\n",
    "    df_X, df_pool_X, df, df_oracle = update_datasets(df_X, df_pool_X, df, df_oracle, new_index)\n",
    "    hit_pi.append(len(df.query(\"3000 < Cp < 4000 and 1.6 < refractive_index < 1.7 and 1 < density < 1.1\")))"
   ]
  },
  {
   "cell_type": "code",
   "execution_count": 8,
   "id": "4bf1e57f-97c0-4130-8ec4-fcfba5eeac18",
   "metadata": {},
   "outputs": [
    {
     "name": "stdout",
     "output_type": "stream",
     "text": [
      "Number of candidates :  10\n",
      "Number of candidates :  20\n",
      "Number of candidates :  30\n",
      "Number of candidates :  40\n",
      "Number of candidates :  50\n",
      "Number of candidates :  60\n",
      "Number of candidates :  70\n",
      "Number of candidates :  80\n",
      "Number of candidates :  90\n",
      "Number of candidates :  100\n",
      "Number of candidates :  110\n",
      "Number of candidates :  120\n",
      "Number of candidates :  130\n",
      "Number of candidates :  140\n",
      "Number of candidates :  150\n",
      "Number of candidates :  160\n",
      "Number of candidates :  170\n",
      "Number of candidates :  180\n",
      "Number of candidates :  190\n",
      "Number of candidates :  200\n"
     ]
    }
   ],
   "source": [
    "# Experiment 2: Random\n",
    "df_X, df_pool_X, df, df_oracle = load_datasets()\n",
    "hit_random = [0]\n",
    "\n",
    "for num in range(20):\n",
    "    new_index = spacier.Random(df_X, df_pool_X, df).sample(10)\n",
    "    df_X, df_pool_X, df, df_oracle = update_datasets(df_X, df_pool_X, df, df_oracle, new_index)\n",
    "    hit_random.append(len(df.query(\"3000 < Cp < 4000 and 1.6 < refractive_index < 1.7 and 1 < density < 1.1\")))"
   ]
  },
  {
   "cell_type": "markdown",
   "id": "2ba960ff",
   "metadata": {},
   "source": [
    "### Experiment 2 Plot Explanation\n",
    "\n",
    "This plot demonstrates the efficiency of the Probability of Improvement (PI) method compared to random sampling in identifying polymers within a specified range of properties (specific heat capacity, refractive index, and density). The plot tracks the cumulative number of polymers found that meet the desired criteria over successive sampling cycles. The goal is to highlight the method's ability to zone in on the target property space more efficiently than random chance."
   ]
  },
  {
   "cell_type": "code",
   "execution_count": 9,
   "id": "42bafd99",
   "metadata": {
    "tags": []
   },
   "outputs": [
    {
     "data": {
      "text/plain": [
       "<matplotlib.legend.Legend at 0x7f51e90c1f50>"
      ]
     },
     "execution_count": 9,
     "metadata": {},
     "output_type": "execute_result"
    },
    {
     "data": {
      "image/png": "[encoded data removed]",
      "text/plain": [
       "<Figure size 300x300 with 1 Axes>"
      ]
     },
     "metadata": {},
     "output_type": "display_data"
    }
   ],
   "source": [
    "plt.figure(figsize=(3, 3))\n",
    "plt.xlim(0, 20)\n",
    "plt.ylim(0, 30)\n",
    "plt.xlabel(\"cycle\")\n",
    "plt.ylabel(\"Number of data in the target area\")\n",
    "plt.plot(np.arange(0, 21), hit_random, label=\"random\", color=\"grey\", lw=2)\n",
    "plt.plot(np.arange(0, 21), hit_pi, label=\"PI\", color=\"k\", lw=2)\n",
    "plt.legend()"
   ]
  },
  {
   "cell_type": "markdown",
   "id": "abf98304",
   "metadata": {},
   "source": [
    "# Experiment 3: Pareto Front Exploration\n",
    "\n",
    "In our third experiment, we explore the Pareto front of polymers based on two competing properties: heat capacity (`Cp`) and refractive index. The Expected Hypervolume Improvement (EHVI) method is a multi-objective optimization technique used here to select new samples that are expected to contribute most to the expansion of the Pareto front. We compare its efficacy against random sampling in identifying true Pareto-optimal solutions."
   ]
  },
  {
   "cell_type": "code",
   "execution_count": 10,
   "id": "2509d012",
   "metadata": {
    "scrolled": true,
    "tags": []
   },
   "outputs": [],
   "source": [
    "# Identifying the Pareto Front\n",
    "df_X, df_pool_X, df, df_oracle = load_datasets()\n",
    "PF = spacier.PF_max(df_oracle[\"Cp\"].values, df_oracle[\"refractive_index\"].values)\n",
    "PF_idx = []\n",
    "for num in range(len(PF)):\n",
    "    prop1 = PF[num][0]\n",
    "    prop2 = PF[num][1]\n",
    "    tmp = (df_oracle[\"Cp\"]-prop1).abs() + (df_oracle[\"refractive_index\"]-prop2).abs() \n",
    "    index = df_oracle.index[tmp.argsort()][0].tolist()\n",
    "    PF_idx.append(df_oracle.iloc[index][\"monomer_ID\"])"
   ]
  },
  {
   "cell_type": "code",
   "execution_count": 11,
   "id": "bab31232-d33f-4755-bd06-7f7ad09e4582",
   "metadata": {
    "tags": []
   },
   "outputs": [
    {
     "name": "stdout",
     "output_type": "stream",
     "text": [
      "Number of training data :  10\n",
      "Number of candidates :  1067\n",
      "Number of training data :  20\n",
      "Number of candidates :  1057\n"
     ]
    },
    {
     "ename": "TypeError",
     "evalue": "loop of ufunc does not support argument 0 of type numpy.float64 which has no callable sqrt method",
     "output_type": "error",
     "traceback": [
      "\u001b[0;31m---------------------------------------------------------------------------\u001b[0m",
      "\u001b[0;31mAttributeError\u001b[0m                            Traceback (most recent call last)",
      "\u001b[0;31mAttributeError\u001b[0m: 'numpy.float64' object has no attribute 'sqrt'",
      "\nThe above exception was the direct cause of the following exception:\n",
      "\u001b[0;31mTypeError\u001b[0m                                 Traceback (most recent call last)",
      "Cell \u001b[0;32mIn[11], line 8\u001b[0m\n\u001b[1;32m      5\u001b[0m properties_to_update \u001b[38;5;241m=\u001b[39m [\u001b[38;5;124m\"\u001b[39m\u001b[38;5;124mCp\u001b[39m\u001b[38;5;124m\"\u001b[39m, \u001b[38;5;124m\"\u001b[39m\u001b[38;5;124mrefractive_index\u001b[39m\u001b[38;5;124m\"\u001b[39m]\n\u001b[1;32m      7\u001b[0m \u001b[38;5;28;01mfor\u001b[39;00m num \u001b[38;5;129;01min\u001b[39;00m \u001b[38;5;28mrange\u001b[39m(\u001b[38;5;241m20\u001b[39m):\n\u001b[0;32m----> 8\u001b[0m     new_index \u001b[38;5;241m=\u001b[39m \u001b[43mspacier\u001b[49m\u001b[38;5;241;43m.\u001b[39;49m\u001b[43mBO\u001b[49m\u001b[43m(\u001b[49m\u001b[43mdf_X\u001b[49m\u001b[43m,\u001b[49m\u001b[43m \u001b[49m\u001b[43mdf\u001b[49m\u001b[43m,\u001b[49m\u001b[43m \u001b[49m\u001b[43mdf_pool_X\u001b[49m\u001b[43m,\u001b[49m\u001b[43m \u001b[49m\u001b[38;5;124;43m\"\u001b[39;49m\u001b[38;5;124;43msklearn_GP\u001b[39;49m\u001b[38;5;124;43m\"\u001b[39;49m\u001b[43m,\u001b[49m\u001b[43m \u001b[49m\u001b[43mproperties_to_update\u001b[49m\u001b[43m,\u001b[49m\u001b[43m \u001b[49m\u001b[43mstandardization\u001b[49m\u001b[38;5;241;43m=\u001b[39;49m\u001b[38;5;28;43;01mTrue\u001b[39;49;00m\u001b[43m)\u001b[49m\u001b[38;5;241m.\u001b[39mEHVI(\u001b[38;5;241m10\u001b[39m)\n\u001b[1;32m      9\u001b[0m     df_X, df_pool_X, df, df_oracle \u001b[38;5;241m=\u001b[39m update_datasets(df_X, df_pool_X, df, df_oracle, new_index)\n\u001b[1;32m     10\u001b[0m     hit_ehvi\u001b[38;5;241m.\u001b[39mappend(\u001b[38;5;28mlen\u001b[39m(\u001b[38;5;28mset\u001b[39m(\u001b[38;5;28mlist\u001b[39m(df[\u001b[38;5;124m\"\u001b[39m\u001b[38;5;124mmonomer_ID\u001b[39m\u001b[38;5;124m\"\u001b[39m])) \u001b[38;5;241m&\u001b[39m \u001b[38;5;28mset\u001b[39m(PF_idx)))\n",
      "File \u001b[0;32m/work/spacier/Spacier/examples/../spacier/ml/spacier.py:127\u001b[0m, in \u001b[0;36mBO.__init__\u001b[0;34m(self, df_X, df, df_pool_X, model_name, target, standardization)\u001b[0m\n\u001b[1;32m    125\u001b[0m \u001b[38;5;28;01mif\u001b[39;00m standardization:\n\u001b[1;32m    126\u001b[0m     df_tmp \u001b[38;5;241m=\u001b[39m \u001b[38;5;28mself\u001b[39m\u001b[38;5;241m.\u001b[39mdf[\u001b[38;5;28mself\u001b[39m\u001b[38;5;241m.\u001b[39mtarget]\u001b[38;5;241m.\u001b[39miloc[\u001b[38;5;28mself\u001b[39m\u001b[38;5;241m.\u001b[39mindex_train, :]\n\u001b[0;32m--> 127\u001b[0m     \u001b[38;5;28mself\u001b[39m\u001b[38;5;241m.\u001b[39mdf_sc \u001b[38;5;241m=\u001b[39m \u001b[43mdf_tmp\u001b[49m\u001b[38;5;241;43m.\u001b[39;49m\u001b[43mapply\u001b[49m\u001b[43m(\u001b[49m\u001b[43mstats\u001b[49m\u001b[38;5;241;43m.\u001b[39;49m\u001b[43mzscore\u001b[49m\u001b[43m,\u001b[49m\u001b[43m \u001b[49m\u001b[43maxis\u001b[49m\u001b[38;5;241;43m=\u001b[39;49m\u001b[38;5;241;43m0\u001b[39;49m\u001b[43m)\u001b[49m\n\u001b[1;32m    128\u001b[0m     \u001b[38;5;28;01mfor\u001b[39;00m _ \u001b[38;5;129;01min\u001b[39;00m \u001b[38;5;28mrange\u001b[39m(\u001b[38;5;28mlen\u001b[39m(\u001b[38;5;28mself\u001b[39m\u001b[38;5;241m.\u001b[39mtarget)):\n\u001b[1;32m    129\u001b[0m         method_to_call \u001b[38;5;241m=\u001b[39m \u001b[38;5;28mgetattr\u001b[39m(model, \u001b[38;5;28mself\u001b[39m\u001b[38;5;241m.\u001b[39mmodel_name)\n",
      "File \u001b[0;32m/opt/conda/envs/MIplatform/lib/python3.11/site-packages/pandas/core/frame.py:10374\u001b[0m, in \u001b[0;36mDataFrame.apply\u001b[0;34m(self, func, axis, raw, result_type, args, by_row, engine, engine_kwargs, **kwargs)\u001b[0m\n\u001b[1;32m  10360\u001b[0m \u001b[38;5;28;01mfrom\u001b[39;00m \u001b[38;5;21;01mpandas\u001b[39;00m\u001b[38;5;21;01m.\u001b[39;00m\u001b[38;5;21;01mcore\u001b[39;00m\u001b[38;5;21;01m.\u001b[39;00m\u001b[38;5;21;01mapply\u001b[39;00m \u001b[38;5;28;01mimport\u001b[39;00m frame_apply\n\u001b[1;32m  10362\u001b[0m op \u001b[38;5;241m=\u001b[39m frame_apply(\n\u001b[1;32m  10363\u001b[0m     \u001b[38;5;28mself\u001b[39m,\n\u001b[1;32m  10364\u001b[0m     func\u001b[38;5;241m=\u001b[39mfunc,\n\u001b[0;32m   (...)\u001b[0m\n\u001b[1;32m  10372\u001b[0m     kwargs\u001b[38;5;241m=\u001b[39mkwargs,\n\u001b[1;32m  10373\u001b[0m )\n\u001b[0;32m> 10374\u001b[0m \u001b[38;5;28;01mreturn\u001b[39;00m \u001b[43mop\u001b[49m\u001b[38;5;241;43m.\u001b[39;49m\u001b[43mapply\u001b[49m\u001b[43m(\u001b[49m\u001b[43m)\u001b[49m\u001b[38;5;241m.\u001b[39m__finalize__(\u001b[38;5;28mself\u001b[39m, method\u001b[38;5;241m=\u001b[39m\u001b[38;5;124m\"\u001b[39m\u001b[38;5;124mapply\u001b[39m\u001b[38;5;124m\"\u001b[39m)\n",
      "File \u001b[0;32m/opt/conda/envs/MIplatform/lib/python3.11/site-packages/pandas/core/apply.py:916\u001b[0m, in \u001b[0;36mFrameApply.apply\u001b[0;34m(self)\u001b[0m\n\u001b[1;32m    913\u001b[0m \u001b[38;5;28;01melif\u001b[39;00m \u001b[38;5;28mself\u001b[39m\u001b[38;5;241m.\u001b[39mraw:\n\u001b[1;32m    914\u001b[0m     \u001b[38;5;28;01mreturn\u001b[39;00m \u001b[38;5;28mself\u001b[39m\u001b[38;5;241m.\u001b[39mapply_raw(engine\u001b[38;5;241m=\u001b[39m\u001b[38;5;28mself\u001b[39m\u001b[38;5;241m.\u001b[39mengine, engine_kwargs\u001b[38;5;241m=\u001b[39m\u001b[38;5;28mself\u001b[39m\u001b[38;5;241m.\u001b[39mengine_kwargs)\n\u001b[0;32m--> 916\u001b[0m \u001b[38;5;28;01mreturn\u001b[39;00m \u001b[38;5;28;43mself\u001b[39;49m\u001b[38;5;241;43m.\u001b[39;49m\u001b[43mapply_standard\u001b[49m\u001b[43m(\u001b[49m\u001b[43m)\u001b[49m\n",
      "File \u001b[0;32m/opt/conda/envs/MIplatform/lib/python3.11/site-packages/pandas/core/apply.py:1063\u001b[0m, in \u001b[0;36mFrameApply.apply_standard\u001b[0;34m(self)\u001b[0m\n\u001b[1;32m   1061\u001b[0m \u001b[38;5;28;01mdef\u001b[39;00m \u001b[38;5;21mapply_standard\u001b[39m(\u001b[38;5;28mself\u001b[39m):\n\u001b[1;32m   1062\u001b[0m     \u001b[38;5;28;01mif\u001b[39;00m \u001b[38;5;28mself\u001b[39m\u001b[38;5;241m.\u001b[39mengine \u001b[38;5;241m==\u001b[39m \u001b[38;5;124m\"\u001b[39m\u001b[38;5;124mpython\u001b[39m\u001b[38;5;124m\"\u001b[39m:\n\u001b[0;32m-> 1063\u001b[0m         results, res_index \u001b[38;5;241m=\u001b[39m \u001b[38;5;28;43mself\u001b[39;49m\u001b[38;5;241;43m.\u001b[39;49m\u001b[43mapply_series_generator\u001b[49m\u001b[43m(\u001b[49m\u001b[43m)\u001b[49m\n\u001b[1;32m   1064\u001b[0m     \u001b[38;5;28;01melse\u001b[39;00m:\n\u001b[1;32m   1065\u001b[0m         results, res_index \u001b[38;5;241m=\u001b[39m \u001b[38;5;28mself\u001b[39m\u001b[38;5;241m.\u001b[39mapply_series_numba()\n",
      "File \u001b[0;32m/opt/conda/envs/MIplatform/lib/python3.11/site-packages/pandas/core/apply.py:1081\u001b[0m, in \u001b[0;36mFrameApply.apply_series_generator\u001b[0;34m(self)\u001b[0m\n\u001b[1;32m   1078\u001b[0m \u001b[38;5;28;01mwith\u001b[39;00m option_context(\u001b[38;5;124m\"\u001b[39m\u001b[38;5;124mmode.chained_assignment\u001b[39m\u001b[38;5;124m\"\u001b[39m, \u001b[38;5;28;01mNone\u001b[39;00m):\n\u001b[1;32m   1079\u001b[0m     \u001b[38;5;28;01mfor\u001b[39;00m i, v \u001b[38;5;129;01min\u001b[39;00m \u001b[38;5;28menumerate\u001b[39m(series_gen):\n\u001b[1;32m   1080\u001b[0m         \u001b[38;5;66;03m# ignore SettingWithCopy here in case the user mutates\u001b[39;00m\n\u001b[0;32m-> 1081\u001b[0m         results[i] \u001b[38;5;241m=\u001b[39m \u001b[38;5;28;43mself\u001b[39;49m\u001b[38;5;241;43m.\u001b[39;49m\u001b[43mfunc\u001b[49m\u001b[43m(\u001b[49m\u001b[43mv\u001b[49m\u001b[43m,\u001b[49m\u001b[43m \u001b[49m\u001b[38;5;241;43m*\u001b[39;49m\u001b[38;5;28;43mself\u001b[39;49m\u001b[38;5;241;43m.\u001b[39;49m\u001b[43margs\u001b[49m\u001b[43m,\u001b[49m\u001b[43m \u001b[49m\u001b[38;5;241;43m*\u001b[39;49m\u001b[38;5;241;43m*\u001b[39;49m\u001b[38;5;28;43mself\u001b[39;49m\u001b[38;5;241;43m.\u001b[39;49m\u001b[43mkwargs\u001b[49m\u001b[43m)\u001b[49m\n\u001b[1;32m   1082\u001b[0m         \u001b[38;5;28;01mif\u001b[39;00m \u001b[38;5;28misinstance\u001b[39m(results[i], ABCSeries):\n\u001b[1;32m   1083\u001b[0m             \u001b[38;5;66;03m# If we have a view on v, we need to make a copy because\u001b[39;00m\n\u001b[1;32m   1084\u001b[0m             \u001b[38;5;66;03m#  series_generator will swap out the underlying data\u001b[39;00m\n\u001b[1;32m   1085\u001b[0m             results[i] \u001b[38;5;241m=\u001b[39m results[i]\u001b[38;5;241m.\u001b[39mcopy(deep\u001b[38;5;241m=\u001b[39m\u001b[38;5;28;01mFalse\u001b[39;00m)\n",
      "File \u001b[0;32m/opt/conda/envs/MIplatform/lib/python3.11/site-packages/scipy/stats/_stats_py.py:2924\u001b[0m, in \u001b[0;36mzscore\u001b[0;34m(a, axis, ddof, nan_policy)\u001b[0m\n\u001b[1;32m   2842\u001b[0m \u001b[38;5;28;01mdef\u001b[39;00m \u001b[38;5;21mzscore\u001b[39m(a, axis\u001b[38;5;241m=\u001b[39m\u001b[38;5;241m0\u001b[39m, ddof\u001b[38;5;241m=\u001b[39m\u001b[38;5;241m0\u001b[39m, nan_policy\u001b[38;5;241m=\u001b[39m\u001b[38;5;124m'\u001b[39m\u001b[38;5;124mpropagate\u001b[39m\u001b[38;5;124m'\u001b[39m):\n\u001b[1;32m   2843\u001b[0m \u001b[38;5;250m    \u001b[39m\u001b[38;5;124;03m\"\"\"\u001b[39;00m\n\u001b[1;32m   2844\u001b[0m \u001b[38;5;124;03m    Compute the z score.\u001b[39;00m\n\u001b[1;32m   2845\u001b[0m \n\u001b[0;32m   (...)\u001b[0m\n\u001b[1;32m   2922\u001b[0m \u001b[38;5;124;03m           [-0.91611681, -0.89090508,  1.4983032 ,  0.88731639, -0.5785977 ]])\u001b[39;00m\n\u001b[1;32m   2923\u001b[0m \u001b[38;5;124;03m    \"\"\"\u001b[39;00m\n\u001b[0;32m-> 2924\u001b[0m     \u001b[38;5;28;01mreturn\u001b[39;00m \u001b[43mzmap\u001b[49m\u001b[43m(\u001b[49m\u001b[43ma\u001b[49m\u001b[43m,\u001b[49m\u001b[43m \u001b[49m\u001b[43ma\u001b[49m\u001b[43m,\u001b[49m\u001b[43m \u001b[49m\u001b[43maxis\u001b[49m\u001b[38;5;241;43m=\u001b[39;49m\u001b[43maxis\u001b[49m\u001b[43m,\u001b[49m\u001b[43m \u001b[49m\u001b[43mddof\u001b[49m\u001b[38;5;241;43m=\u001b[39;49m\u001b[43mddof\u001b[49m\u001b[43m,\u001b[49m\u001b[43m \u001b[49m\u001b[43mnan_policy\u001b[49m\u001b[38;5;241;43m=\u001b[39;49m\u001b[43mnan_policy\u001b[49m\u001b[43m)\u001b[49m\n",
      "File \u001b[0;32m/opt/conda/envs/MIplatform/lib/python3.11/site-packages/scipy/stats/_stats_py.py:3089\u001b[0m, in \u001b[0;36mzmap\u001b[0;34m(scores, compare, axis, ddof, nan_policy)\u001b[0m\n\u001b[1;32m   3087\u001b[0m \u001b[38;5;28;01melse\u001b[39;00m:\n\u001b[1;32m   3088\u001b[0m     mn \u001b[38;5;241m=\u001b[39m a\u001b[38;5;241m.\u001b[39mmean(axis\u001b[38;5;241m=\u001b[39maxis, keepdims\u001b[38;5;241m=\u001b[39m\u001b[38;5;28;01mTrue\u001b[39;00m)\n\u001b[0;32m-> 3089\u001b[0m     std \u001b[38;5;241m=\u001b[39m \u001b[43ma\u001b[49m\u001b[38;5;241;43m.\u001b[39;49m\u001b[43mstd\u001b[49m\u001b[43m(\u001b[49m\u001b[43maxis\u001b[49m\u001b[38;5;241;43m=\u001b[39;49m\u001b[43maxis\u001b[49m\u001b[43m,\u001b[49m\u001b[43m \u001b[49m\u001b[43mddof\u001b[49m\u001b[38;5;241;43m=\u001b[39;49m\u001b[43mddof\u001b[49m\u001b[43m,\u001b[49m\u001b[43m \u001b[49m\u001b[43mkeepdims\u001b[49m\u001b[38;5;241;43m=\u001b[39;49m\u001b[38;5;28;43;01mTrue\u001b[39;49;00m\u001b[43m)\u001b[49m\n\u001b[1;32m   3090\u001b[0m     \u001b[38;5;66;03m# The intent is to check whether all elements of `a` along `axis` are\u001b[39;00m\n\u001b[1;32m   3091\u001b[0m     \u001b[38;5;66;03m# identical. Due to finite precision arithmetic, comparing elements\u001b[39;00m\n\u001b[1;32m   3092\u001b[0m     \u001b[38;5;66;03m# against `mn` doesn't work. Previously, this compared elements to\u001b[39;00m\n\u001b[1;32m   3093\u001b[0m     \u001b[38;5;66;03m# `_first`, but that extracts the element at index 0 regardless of\u001b[39;00m\n\u001b[1;32m   3094\u001b[0m     \u001b[38;5;66;03m# whether it is masked. As a simple fix, compare against `min`.\u001b[39;00m\n\u001b[1;32m   3095\u001b[0m     a0 \u001b[38;5;241m=\u001b[39m a\u001b[38;5;241m.\u001b[39mmin(axis\u001b[38;5;241m=\u001b[39maxis, keepdims\u001b[38;5;241m=\u001b[39m\u001b[38;5;28;01mTrue\u001b[39;00m)\n",
      "File \u001b[0;32m/opt/conda/envs/MIplatform/lib/python3.11/site-packages/numpy/core/_methods.py:210\u001b[0m, in \u001b[0;36m_std\u001b[0;34m(a, axis, dtype, out, ddof, keepdims, where)\u001b[0m\n\u001b[1;32m    206\u001b[0m ret \u001b[38;5;241m=\u001b[39m _var(a, axis\u001b[38;5;241m=\u001b[39maxis, dtype\u001b[38;5;241m=\u001b[39mdtype, out\u001b[38;5;241m=\u001b[39mout, ddof\u001b[38;5;241m=\u001b[39mddof,\n\u001b[1;32m    207\u001b[0m            keepdims\u001b[38;5;241m=\u001b[39mkeepdims, where\u001b[38;5;241m=\u001b[39mwhere)\n\u001b[1;32m    209\u001b[0m \u001b[38;5;28;01mif\u001b[39;00m \u001b[38;5;28misinstance\u001b[39m(ret, mu\u001b[38;5;241m.\u001b[39mndarray):\n\u001b[0;32m--> 210\u001b[0m     ret \u001b[38;5;241m=\u001b[39m \u001b[43mum\u001b[49m\u001b[38;5;241;43m.\u001b[39;49m\u001b[43msqrt\u001b[49m\u001b[43m(\u001b[49m\u001b[43mret\u001b[49m\u001b[43m,\u001b[49m\u001b[43m \u001b[49m\u001b[43mout\u001b[49m\u001b[38;5;241;43m=\u001b[39;49m\u001b[43mret\u001b[49m\u001b[43m)\u001b[49m\n\u001b[1;32m    211\u001b[0m \u001b[38;5;28;01melif\u001b[39;00m \u001b[38;5;28mhasattr\u001b[39m(ret, \u001b[38;5;124m'\u001b[39m\u001b[38;5;124mdtype\u001b[39m\u001b[38;5;124m'\u001b[39m):\n\u001b[1;32m    212\u001b[0m     ret \u001b[38;5;241m=\u001b[39m ret\u001b[38;5;241m.\u001b[39mdtype\u001b[38;5;241m.\u001b[39mtype(um\u001b[38;5;241m.\u001b[39msqrt(ret))\n",
      "\u001b[0;31mTypeError\u001b[0m: loop of ufunc does not support argument 0 of type numpy.float64 which has no callable sqrt method"
     ]
    }
   ],
   "source": [
    "# Experiment 3: EHVI\n",
    "df_X, df_pool_X, df, df_oracle = load_datasets()\n",
    "hit_ehvi = [0]\n",
    "\n",
    "properties_to_update = [\"Cp\", \"refractive_index\"]\n",
    "\n",
    "for num in range(20):\n",
    "    new_index = spacier.BO(df_X, df, df_pool_X, \"sklearn_GP\", properties_to_update, standardization=True).EHVI(10)\n",
    "    df_X, df_pool_X, df, df_oracle = update_datasets(df_X, df_pool_X, df, df_oracle, new_index)\n",
    "    hit_ehvi.append(len(set(list(df[\"monomer_ID\"])) & set(PF_idx)))"
   ]
  },
  {
   "cell_type": "code",
   "execution_count": null,
   "id": "3c4fcea0-620d-47a3-a62e-7e55c57336d0",
   "metadata": {},
   "outputs": [],
   "source": [
    "# Experiment 3: Random\n",
    "df_X, df_pool_X, df, df_oracle = load_datasets()\n",
    "hit_random = [0]\n",
    "\n",
    "for num in range(20):\n",
    "    new_index = spacier.Random(df_X, df_pool_X, df).sample(10)\n",
    "    df_X, df_pool_X, df, df_oracle = update_datasets(df_X, df_pool_X, df, df_oracle, new_index)\n",
    "    hit_random.append(len(set(list(df[\"monomer_ID\"])) & set(PF_idx)))"
   ]
  },
  {
   "cell_type": "markdown",
   "id": "3d41a543",
   "metadata": {},
   "source": [
    "### Experiment 3 Plot Explanation\n",
    "\n",
    "In the final experiment, we explore the Pareto front for polymers based on two competing properties: heat capacity (`Cp`) and refractive index. The plot compares the Expected Hypervolume Improvement (EHVI) method against random sampling in terms of discovering true Pareto-optimal solutions over multiple cycles. The number of Pareto solutions found is plotted against the cycle number, illustrating each method's effectiveness in navigating the trade-offs between these two properties to uncover optimal polymers."
   ]
  },
  {
   "cell_type": "code",
   "execution_count": null,
   "id": "3dac1805",
   "metadata": {
    "tags": []
   },
   "outputs": [],
   "source": [
    "plt.figure(figsize=(3, 3))\n",
    "plt.xlim(0, 20)\n",
    "plt.ylim(0, 30)\n",
    "plt.xlabel(\"cycle\")\n",
    "plt.ylabel(\"Number of pareto solution\")\n",
    "plt.plot(np.arange(0, 21), hit_random, label=\"random\", color=\"grey\", lw=2)\n",
    "plt.plot(np.arange(0, 21), hit_ehvi, label=\"EHVI\", color=\"k\", lw=2)\n",
    "plt.legend()"
   ]
  },
  {
   "cell_type": "markdown",
   "id": "5cff8cda-fcd0-41a5-9a1f-8bbcdce5f7c0",
   "metadata": {},
   "source": [
    "# Conclusion\n",
    "\n",
    "This notebook demonstrates the application of various sampling methods in the context of materials science, leveraging the `spacier` library. By comparing methods like EI, PI, and EHVI against random sampling, we showcase the potential of Bayesian Optimization and similar strategies for efficient material discovery and optimization."
   ]
  },
  {
   "cell_type": "code",
   "execution_count": null,
   "id": "1e859a76-da7f-41f7-9d53-d977f7e06f20",
   "metadata": {},
   "outputs": [],
   "source": []
  }
 ],
 "metadata": {
  "kernelspec": {
   "display_name": "Python 3 (ipykernel)",
   "language": "python",
   "name": "python3"
  },
  "language_info": {
   "codemirror_mode": {
    "name": "ipython",
    "version": 3
   },
   "file_extension": ".py",
   "mimetype": "text/x-python",
   "name": "python",
   "nbconvert_exporter": "python",
   "pygments_lexer": "ipython3",
   "version": "3.11.0"
  }
 },
 "nbformat": 4,
 "nbformat_minor": 5
}
