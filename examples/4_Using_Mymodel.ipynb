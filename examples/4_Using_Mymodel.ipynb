{
 "cells": [
  {
   "cell_type": "markdown",
   "id": "d7efe8b3",
   "metadata": {},
   "source": [
    "# Introduction\n",
    "\n",
    "\n",
    "## Setup and Version Check\n",
    "\n",
    "First, we import necessary libraries and check the version of the `spacier` package to ensure compatibility and reproducibility of results."
   ]
  },
  {
   "cell_type": "code",
   "execution_count": 1,
   "id": "f2d0b3d5",
   "metadata": {
    "tags": []
   },
   "outputs": [
    {
     "name": "stdout",
     "output_type": "stream",
     "text": [
      "spacier:  0.0.5\n"
     ]
    }
   ],
   "source": [
    "import sys\n",
    "sys.path.append('../')\n",
    "from spacier.ml import spacier\n",
    "\n",
    "import pandas as pd\n",
    "import numpy as np\n",
    "import matplotlib.pyplot as plt\n",
    "\n",
    "print(\"spacier: \", spacier.__version__)"
   ]
  },
  {
   "cell_type": "markdown",
   "id": "c907814c",
   "metadata": {},
   "source": [
    "## Data Preparation (Binh and Korn Function)\n",
    "\n",
    "In this section, we generate synthetic data for our experiment. We define the range of our input variables, create random samples, and prepare our dataset."
   ]
  },
  {
   "cell_type": "code",
   "execution_count": 2,
   "id": "8b573232",
   "metadata": {},
   "outputs": [],
   "source": [
    "num_samples = 10000\n",
    "x_min, x_max = -5, 15\n",
    "\n",
    "\n",
    "np.random.seed(0)\n",
    "x_samples = np.random.uniform(x_min, x_max, (num_samples, 2))\n",
    "\n",
    "X = pd.DataFrame(x_samples, columns=[\"x1\", \"x2\"])\n",
    "\n",
    "df_X = X.iloc[:1000]\n",
    "df_pool_X = X.iloc[1000:].reset_index(drop=True)\n",
    "\n",
    "##\n",
    "df = pd.DataFrame({\n",
    "    \"y1\": -(4 * df_X[\"x1\"]**2 + 4 * df_X[\"x2\"]**2),\n",
    "    \"y2\": -((df_X[\"x1\"] - 5)**2 + (df_X[\"x2\"] - 5)**2)\n",
    "})"
   ]
  },
  {
   "cell_type": "markdown",
   "id": "4af71031",
   "metadata": {},
   "source": [
    "## Bayesian Optimization with Custom Model\n",
    "\n",
    "We apply Bayesian Optimization using the `spacier` package's custom model (`Mymodel`). The Expected Improvement (EI) criterion is used to select new points."
   ]
  },
  {
   "cell_type": "code",
   "execution_count": 3,
   "id": "4af71031",
   "metadata": {},
   "outputs": [
    {
     "name": "stdout",
     "output_type": "stream",
     "text": [
      "Number of training data :  1000\n",
      "Number of candidates :  9000\n",
      "CPU times: total: 2.25 s\n",
      "Wall time: 2 s\n"
     ]
    }
   ],
   "source": [
    "%%time\n",
    "new_index = spacier.BO(df_X, df, df_pool_X, \"Mymodel\", [\"y1\"]).EI(10)"
   ]
  },
  {
   "cell_type": "markdown",
   "id": "a9407478",
   "metadata": {},
   "source": [
    "## Bayesian Optimization with Scikit-learn Gaussian Process\n",
    "\n",
    "We now perform Bayesian Optimization using a Gaussian Process model from `scikit-learn` to compare results. The EI criterion is again used for selection."
   ]
  },
  {
   "cell_type": "code",
   "execution_count": 4,
   "id": "a9407478",
   "metadata": {},
   "outputs": [
    {
     "name": "stdout",
     "output_type": "stream",
     "text": [
      "Number of training data :  1000\n",
      "Number of candidates :  9000\n",
      "CPU times: total: 19.3 s\n",
      "Wall time: 7 s\n"
     ]
    }
   ],
   "source": [
    "%%time\n",
    "new_index = spacier.BO(df_X, df, df_pool_X, \"sklearn_GP\", [\"y1\"]).EI(10)"
   ]
  }
 ],
 "metadata": {
  "kernelspec": {
   "display_name": "Python 3 (ipykernel)",
   "language": "python",
   "name": "python3"
  },
  "language_info": {
   "codemirror_mode": {
    "name": "ipython",
    "version": 3
   },
   "file_extension": ".py",
   "mimetype": "text/x-python",
   "name": "python",
   "nbconvert_exporter": "python",
   "pygments_lexer": "ipython3",
   "version": "3.10.9"
  }
 },
 "nbformat": 4,
 "nbformat_minor": 5
}
